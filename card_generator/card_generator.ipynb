{
 "cells": [
  {
   "cell_type": "code",
   "execution_count": 307,
   "id": "increasing-chain",
   "metadata": {},
   "outputs": [],
   "source": [
    "from glob import glob\n",
    "import random\n",
    "import uuid\n",
    "import csv  \n",
    "import os\n",
    "\n",
    "\n",
    "from PIL import Image\n",
    "import numpy as np\n",
    "import matplotlib.pyplot as plt"
   ]
  },
  {
   "cell_type": "code",
   "execution_count": 308,
   "id": "broad-testimony",
   "metadata": {},
   "outputs": [],
   "source": [
    "def generate_card(card_path, logo_path):\n",
    "    back = Image.open(card_path).convert('RGBA')\n",
    "    logo = Image.open(logo_path).convert('RGBA')\n",
    "\n",
    "    logo_w = back.width / 4.7\n",
    "    loho_h = logo_w / logo.width  * logo.height\n",
    "    logo_w = np.round(logo_w).astype(int)\n",
    "    loho_h = np.round(loho_h).astype(int)\n",
    "\n",
    "    logo = logo.resize((logo_w, loho_h))\n",
    "\n",
    "    xmin = np.random.randint(0, back.width - logo.width)\n",
    "    xmax = xmin + logo.width\n",
    "    ymin = np.random.randint(0, back.height - logo.height)\n",
    "    ymax = ymin + logo.height\n",
    "\n",
    "    back.paste(logo, (xmin, back.height - ymax), logo)\n",
    "    return back, (xmin, xmax, ymin, ymax)"
   ]
  },
  {
   "cell_type": "code",
   "execution_count": 265,
   "id": "requested-minutes",
   "metadata": {},
   "outputs": [],
   "source": []
  },
  {
   "cell_type": "code",
   "execution_count": 309,
   "id": "damaged-briefing",
   "metadata": {},
   "outputs": [],
   "source": [
    "RESULT_CSV = './synth/generated.csv'\n",
    "\n",
    "if os.path.isfile(RESULT_CSV):\n",
    "    os.remove(RESULT_CSV)\n",
    "    \n",
    "if not os.path.exists('./synth/images'):\n",
    "    os.makedirs('./synth/images')\n",
    "    \n",
    "files = glob('./synth/images/*')\n",
    "for f in files:\n",
    "    os.remove(f)\n",
    "    \n",
    "switcher = 0\n",
    "\n",
    "for _ in range(1024):\n",
    "\n",
    "    card_type = 'visa' if switcher else 'mastercard'\n",
    "\n",
    "    card_pattern = './synth/card/*'\n",
    "    logo_pattern = f'./synth/logo-{card_type}/*'\n",
    "    switcher = 1 - switcher\n",
    "\n",
    "\n",
    "    logo_path = random.choice(glob(logo_pattern))\n",
    "    card_path = random.choice(glob(card_pattern))\n",
    "\n",
    "\n",
    "    card, (xmin, xmax, ymin, ymax) = generate_card(card_path, logo_path)\n",
    "\n",
    "    label_name = card_type\n",
    "    rect_left = xmin\n",
    "    rect_top = card.height - ymax\n",
    "    rect_width = xmax - xmin\n",
    "    rect_height = ymax - ymin\n",
    "    image_name = uuid.uuid4().hex + '.png'\n",
    "    image_width = card.width\n",
    "    image_height = card.height\n",
    "    \n",
    "    card.save(f'./synth/images/{image_name}')\n",
    "    \n",
    "    row = [label_name, rect_left, rect_top, rect_width, rect_height, image_name, image_width, image_height]\n",
    "    \n",
    "    with open(RESULT_CSV, 'a') as f:\n",
    "        writer = csv.writer(f)\n",
    "        writer.writerow(row)"
   ]
  },
  {
   "cell_type": "code",
   "execution_count": null,
   "id": "twelve-amino",
   "metadata": {},
   "outputs": [],
   "source": []
  }
 ],
 "metadata": {
  "kernelspec": {
   "display_name": "Python 3",
   "language": "python",
   "name": "python3"
  },
  "language_info": {
   "codemirror_mode": {
    "name": "ipython",
    "version": 3
   },
   "file_extension": ".py",
   "mimetype": "text/x-python",
   "name": "python",
   "nbconvert_exporter": "python",
   "pygments_lexer": "ipython3",
   "version": "3.8.5"
  }
 },
 "nbformat": 4,
 "nbformat_minor": 5
}
